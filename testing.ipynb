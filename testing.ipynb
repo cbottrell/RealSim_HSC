{
 "cells": [
  {
   "cell_type": "code",
   "execution_count": 1,
   "id": "97683609-bba7-4ff4-a48f-2f405277bbae",
   "metadata": {},
   "outputs": [],
   "source": [
    "import pandas as pd\n",
    "import os,sys\n",
    "import unagi\n",
    "from astropy.utils.data import download_file\n",
    "from IPython.display import Image\n",
    "from IPython.core.display import HTML "
   ]
  },
  {
   "cell_type": "code",
   "execution_count": 2,
   "id": "88f7c88e-af23-4c9a-839c-faceb126ab58",
   "metadata": {},
   "outputs": [],
   "source": [
    "dr_string = 'dr3'\n",
    "re_string = 's20a_wide'\n",
    "csv_file = f'Catalogues/hsc-{dr_string}-{re_string}-specz.csv'\n",
    "\n",
    "bands = ['g','r','i','z','y']\n",
    "\n",
    "# conditions that coadds must be at final data quality\n",
    "if 'dud' in re_string:\n",
    "    final_conditions = [\n",
    "        'g_inputcount_value>=28',\n",
    "        'r_inputcount_value>=28',\n",
    "        'i_inputcount_value>=38',\n",
    "        'z_inputcount_value>=63',\n",
    "        'y_inputcount_value>=38',\n",
    "    ]\n",
    "else:\n",
    "    final_conditions = [\n",
    "        'g_inputcount_value>=4',\n",
    "        'r_inputcount_value>=4',\n",
    "        'i_inputcount_value>=6',\n",
    "        'z_inputcount_value>=6',\n",
    "        'y_inputcount_value>=6',\n",
    "    ]\n",
    "\n",
    "clean = True\n",
    "\n",
    "if not os.access(csv_file,0):\n",
    "    \n",
    "    dr = unagi.hsc.Hsc(dr=dr_string, rerun=re_string)\n",
    "    sql_cmd = [\n",
    "        f'SELECT f.object_id, f2.i_sdsscentroid_ra, f2.i_sdsscentroid_dec, z.specz_redshift',\n",
    "        f'FROM {re_string}.forced as f',\n",
    "        f'LEFT JOIN {re_string}.forced2 as f2',\n",
    "        f'ON f.object_id = f2.object_id',\n",
    "        f'LEFT JOIN {re_string}.specz as z',\n",
    "        f'ON f.object_id = z.object_id',\n",
    "        f'WHERE z.specz_redshift>0.01 AND z.specz_redshift<3'\n",
    "              ]\n",
    "    sql_cmd = ' '.join(sql_cmd)\n",
    "    if clean:\n",
    "        sql_cmd += ' '+' '.join([f'AND {final_condition}' for final_condition in final_conditions])\n",
    "    df = dr.sql_query(sql_cmd, from_file=False, verbose=True).to_pandas()\n",
    "    df.to_csv(csv_file,index=False)\n",
    "else:\n",
    "    df = pd.read_csv(csv_file)"
   ]
  },
  {
   "cell_type": "code",
   "execution_count": 3,
   "id": "0305a6e1-9e0f-4637-84bf-a63f48287eab",
   "metadata": {},
   "outputs": [
    {
     "name": "stdout",
     "output_type": "stream",
     "text": [
      "374760\n"
     ]
    },
    {
     "data": {
      "text/plain": [
       "<BarContainer object of 99 artists>"
      ]
     },
     "execution_count": 3,
     "metadata": {},
     "output_type": "execute_result"
    },
    {
     "data": {
      "image/png": "[encoded data removed]",
      "text/plain": [
       "<Figure size 540x360 with 1 Axes>"
      ]
     },
     "metadata": {
      "needs_background": "light"
     },
     "output_type": "display_data"
    }
   ],
   "source": [
    "import matplotlib.pyplot as plt\n",
    "import numpy as np\n",
    "xmin,xmax=0.,1.\n",
    "fig,ax = plt.subplots(figsize=(7.5,5))\n",
    "xedges = np.linspace(0,1,100)\n",
    "xwidths = xedges[1:]-xedges[:-1]\n",
    "H,xedges = np.histogram(df['specz_redshift'],bins=xedges,density=False)\n",
    "print(np.sum(H))\n",
    "ax.bar(xedges[:-1],H,width=xwidths,align='edge')\n"
   ]
  },
  {
   "cell_type": "code",
   "execution_count": 4,
   "id": "e427410e-e13f-411e-a51f-56bfd1c5d2c7",
   "metadata": {},
   "outputs": [
    {
     "data": {
      "text/plain": [
       "<matplotlib.collections.PathCollection at 0x2b242ac42b80>"
      ]
     },
     "execution_count": 4,
     "metadata": {},
     "output_type": "execute_result"
    },
    {
     "data": {
      "image/png": "[encoded data removed]",
      "text/plain": [
       "<Figure size 720x360 with 1 Axes>"
      ]
     },
     "metadata": {
      "needs_background": "light"
     },
     "output_type": "display_data"
    }
   ],
   "source": [
    "fig,ax=plt.subplots(figsize=(10,5))\n",
    "ax.scatter(df.i_sdsscentroid_ra,df.i_sdsscentroid_dec,s=0.1,alpha=0.3)"
   ]
  },
  {
   "cell_type": "code",
   "execution_count": 5,
   "id": "8bc61a63-78f3-49bb-a433-e6229b6ceb12",
   "metadata": {},
   "outputs": [
    {
     "name": "stdout",
     "output_type": "stream",
     "text": [
      "# Get table list from /home/connor.bottrell/.conda/envs/tf39_cpu/lib/python3.9/site-packages/unagi-0.1.3.dev13-py3.9.egg/unagi/data/s20a_wide/s20a_wide_tables.fits\n",
      "# Read from saved file /home/connor.bottrell/.conda/envs/tf39_cpu/lib/python3.9/site-packages/unagi-0.1.3.dev13-py3.9.egg/unagi/data/s20a_wide/s20a_wide_tables.fits\n"
     ]
    },
    {
     "data": {
      "text/plain": [
       "['calibframe',\n",
       " 'forced',\n",
       " 'forced2',\n",
       " 'forced3',\n",
       " 'forced4',\n",
       " 'forced5',\n",
       " 'frame',\n",
       " 'frame_hpx11',\n",
       " 'mag_corr',\n",
       " 'masks_test20200303',\n",
       " 'meas',\n",
       " 'meas2',\n",
       " 'meas3',\n",
       " 'meas4',\n",
       " 'mosaic',\n",
       " 'mosaic_hpx11',\n",
       " 'mosaicframe',\n",
       " 'patch_qa',\n",
       " 'random',\n",
       " 'random_masks_test20200303',\n",
       " 'specz',\n",
       " 'summary',\n",
       " 'warped',\n",
       " 'warped_hpx11']"
      ]
     },
     "execution_count": 5,
     "metadata": {},
     "output_type": "execute_result"
    }
   ],
   "source": [
    "import unagi\n",
    "dr = unagi.hsc.Hsc(dr=dr_string, rerun=re_string)\n",
    "dr.tables()"
   ]
  },
  {
   "cell_type": "code",
   "execution_count": 38,
   "id": "8f5e78fd-c7d3-4eff-b2de-8859b1d9b55c",
   "metadata": {},
   "outputs": [
    {
     "ename": "AttributeError",
     "evalue": "'Series' object has no attribute 'i_sdsscentroid_ra'",
     "output_type": "error",
     "traceback": [
      "\u001b[0;31m---------------------------------------------------------------------------\u001b[0m",
      "\u001b[0;31mAttributeError\u001b[0m                            Traceback (most recent call last)",
      "\u001b[0;32m<ipython-input-38-6cc095b47e32>\u001b[0m in \u001b[0;36m<module>\u001b[0;34m\u001b[0m\n\u001b[1;32m     33\u001b[0m \u001b[0mgalaxy\u001b[0m \u001b[0;34m=\u001b[0m \u001b[0mlowz_df\u001b[0m\u001b[0;34m.\u001b[0m\u001b[0miloc\u001b[0m\u001b[0;34m[\u001b[0m\u001b[0;36m200\u001b[0m\u001b[0;34m]\u001b[0m\u001b[0;34m\u001b[0m\u001b[0;34m\u001b[0m\u001b[0m\n\u001b[1;32m     34\u001b[0m \u001b[0;34m\u001b[0m\u001b[0m\n\u001b[0;32m---> 35\u001b[0;31m \u001b[0mcoord_1\u001b[0m \u001b[0;34m=\u001b[0m \u001b[0mSkyCoord\u001b[0m\u001b[0;34m(\u001b[0m\u001b[0mgalaxy\u001b[0m\u001b[0;34m.\u001b[0m\u001b[0mi_sdsscentroid_ra\u001b[0m\u001b[0;34m,\u001b[0m \u001b[0mgalaxy\u001b[0m\u001b[0;34m.\u001b[0m\u001b[0mi_sdsscentroid_dec\u001b[0m\u001b[0;34m,\u001b[0m \u001b[0mframe\u001b[0m\u001b[0;34m=\u001b[0m\u001b[0;34m'icrs'\u001b[0m\u001b[0;34m,\u001b[0m \u001b[0munit\u001b[0m\u001b[0;34m=\u001b[0m\u001b[0;34m'deg'\u001b[0m\u001b[0;34m)\u001b[0m\u001b[0;34m\u001b[0m\u001b[0;34m\u001b[0m\u001b[0m\n\u001b[0m\u001b[1;32m     36\u001b[0m \u001b[0ms_ang\u001b[0m \u001b[0;34m=\u001b[0m \u001b[0;36m40.\u001b[0m \u001b[0;34m*\u001b[0m \u001b[0mu\u001b[0m\u001b[0;34m.\u001b[0m\u001b[0marcsec\u001b[0m\u001b[0;34m\u001b[0m\u001b[0;34m\u001b[0m\u001b[0m\n\u001b[1;32m     37\u001b[0m \u001b[0;34m\u001b[0m\u001b[0m\n",
      "\u001b[0;32m~/.conda/envs/tf39_cpu/lib/python3.9/site-packages/pandas/core/generic.py\u001b[0m in \u001b[0;36m__getattr__\u001b[0;34m(self, name)\u001b[0m\n\u001b[1;32m   5463\u001b[0m             \u001b[0;32mif\u001b[0m \u001b[0mself\u001b[0m\u001b[0;34m.\u001b[0m\u001b[0m_info_axis\u001b[0m\u001b[0;34m.\u001b[0m\u001b[0m_can_hold_identifiers_and_holds_name\u001b[0m\u001b[0;34m(\u001b[0m\u001b[0mname\u001b[0m\u001b[0;34m)\u001b[0m\u001b[0;34m:\u001b[0m\u001b[0;34m\u001b[0m\u001b[0;34m\u001b[0m\u001b[0m\n\u001b[1;32m   5464\u001b[0m                 \u001b[0;32mreturn\u001b[0m \u001b[0mself\u001b[0m\u001b[0;34m[\u001b[0m\u001b[0mname\u001b[0m\u001b[0;34m]\u001b[0m\u001b[0;34m\u001b[0m\u001b[0;34m\u001b[0m\u001b[0m\n\u001b[0;32m-> 5465\u001b[0;31m             \u001b[0;32mreturn\u001b[0m \u001b[0mobject\u001b[0m\u001b[0;34m.\u001b[0m\u001b[0m__getattribute__\u001b[0m\u001b[0;34m(\u001b[0m\u001b[0mself\u001b[0m\u001b[0;34m,\u001b[0m \u001b[0mname\u001b[0m\u001b[0;34m)\u001b[0m\u001b[0;34m\u001b[0m\u001b[0;34m\u001b[0m\u001b[0m\n\u001b[0m\u001b[1;32m   5466\u001b[0m \u001b[0;34m\u001b[0m\u001b[0m\n\u001b[1;32m   5467\u001b[0m     \u001b[0;32mdef\u001b[0m \u001b[0m__setattr__\u001b[0m\u001b[0;34m(\u001b[0m\u001b[0mself\u001b[0m\u001b[0;34m,\u001b[0m \u001b[0mname\u001b[0m\u001b[0;34m:\u001b[0m \u001b[0mstr\u001b[0m\u001b[0;34m,\u001b[0m \u001b[0mvalue\u001b[0m\u001b[0;34m)\u001b[0m \u001b[0;34m->\u001b[0m \u001b[0;32mNone\u001b[0m\u001b[0;34m:\u001b[0m\u001b[0;34m\u001b[0m\u001b[0;34m\u001b[0m\u001b[0m\n",
      "\u001b[0;31mAttributeError\u001b[0m: 'Series' object has no attribute 'i_sdsscentroid_ra'"
     ]
    }
   ],
   "source": [
    "import astropy.units as u\n",
    "from astropy import wcs\n",
    "from astropy.coordinates import SkyCoord\n",
    "from astropy.io import fits\n",
    "\n",
    "def load_src_cat(data_release,rerun,clean=True):\n",
    "    '''Generate/load Source catalogue for data release / rerun.'''\n",
    "    csv_file = f'Catalogues/hsc-{data_release}-{rerun}-specz.csv'\n",
    "    if not os.access(csv_file,0):\n",
    "        dr = unagi.hsc.Hsc(dr=data_release, rerun=rerun)\n",
    "        sql_cmd = [\n",
    "            f'SELECT f.object_id, f2.i_sdsscentroid_ra, f2.i_sdsscentroid_dec,',\n",
    "            f'z.specz_redshift',\n",
    "            f'FROM {rerun}.forced as f',\n",
    "            f'LEFT JOIN {rerun}.forced2 as f2',\n",
    "            f'ON f.object_id = f2.object_id',\n",
    "            f'LEFT JOIN {rerun}.specz as z',\n",
    "            f'ON f.object_id = z.object_id',\n",
    "            f'WHERE z.specz_redshift>=0.0001'\n",
    "                  ]\n",
    "        sql_cmd = ' '.join(sql_cmd)\n",
    "        if clean:\n",
    "            sql_cmd += ' '+' '.join([f'AND {cnd}' for cnd in hsc_coadd_cnds(rerun)])\n",
    "        df = dr.sql_query(sql_cmd, from_file=False, verbose=True).to_pandas()\n",
    "        df.to_csv(csv_file,index=False)\n",
    "    else:\n",
    "        df = pd.read_csv(csv_file)\n",
    "    return df  \n",
    "\n",
    "df = load_src_cat('dr3','s20a_wide')\n",
    "\n",
    "lowz_df = df.loc[df.specz_redshift<0.02]\n",
    "galaxy = lowz_df.iloc[200]\n",
    "\n",
    "coord_1 = SkyCoord(galaxy.i_sdsscentroid_ra, galaxy.i_sdsscentroid_dec, frame='icrs', unit='deg')\n",
    "s_ang = 40. * u.arcsec\n",
    "\n",
    "# if not os.access('Cutouts/test_g.fits',0):\n",
    "cutout_list = unagi.task.hsc_cutout(coord_1, cutout_size=s_ang, filters='grizy', archive=dr, \n",
    "                         use_saved=False, output_dir='Cutouts', verbose=False, prefix='test',\n",
    "                         save_output=True)\n",
    "for cutout_test in cutout_list:\n",
    "    cutout_test.close()\n",
    "    \n",
    "_filename = 'Cutouts/test_{}.fits'\n",
    "\n",
    "hsc_scale = 0.168 # arcsec/pixel\n",
    "# data = fits.getdata(_filename.format('i'))\n",
    "fig,axarr = plt.subplots(1,5,figsize=(25,5))\n",
    "\n",
    "for i,band in enumerate(['g','r','i','z','y']):\n",
    "    \n",
    "    ax = axarr[i]\n",
    "    data = fits.getdata(_filename.format(band))\n",
    "    header = fits.getheader(_filename.format(band))\n",
    "    f0 = header['FLUXMAG0']\n",
    "    bkg = header['BGMEAN']\n",
    "    ax.imshow(-2.5*np.log10((data)/f0/hsc_scale**2),vmin=16,vmax=24,cmap='bone',origin='lower')"
   ]
  },
  {
   "cell_type": "code",
   "execution_count": 1,
   "id": "ec3508d9-a067-4bb0-ba75-76095dd313ec",
   "metadata": {},
   "outputs": [
    {
     "ename": "NameError",
     "evalue": "name 'fits' is not defined",
     "output_type": "error",
     "traceback": [
      "\u001b[0;31m---------------------------------------------------------------------------\u001b[0m",
      "\u001b[0;31mNameError\u001b[0m                                 Traceback (most recent call last)",
      "\u001b[0;32m<ipython-input-1-bc2e6dff8471>\u001b[0m in \u001b[0;36m<module>\u001b[0;34m\u001b[0m\n\u001b[1;32m     17\u001b[0m     \u001b[0;32mreturn\u001b[0m \u001b[0mdata\u001b[0m\u001b[0;34m\u001b[0m\u001b[0;34m\u001b[0m\u001b[0m\n\u001b[1;32m     18\u001b[0m \u001b[0;34m\u001b[0m\u001b[0m\n\u001b[0;32m---> 19\u001b[0;31m \u001b[0mdata_g\u001b[0m \u001b[0;34m=\u001b[0m \u001b[0mhsc_calibrate\u001b[0m\u001b[0;34m(\u001b[0m\u001b[0;34m'Cutouts/test_g.fits'\u001b[0m\u001b[0;34m)\u001b[0m\u001b[0;34m\u001b[0m\u001b[0;34m\u001b[0m\u001b[0m\n\u001b[0m\u001b[1;32m     20\u001b[0m \u001b[0mdata_r\u001b[0m \u001b[0;34m=\u001b[0m \u001b[0mhsc_calibrate\u001b[0m\u001b[0;34m(\u001b[0m\u001b[0;34m'Cutouts/test_r.fits'\u001b[0m\u001b[0;34m)\u001b[0m\u001b[0;34m\u001b[0m\u001b[0;34m\u001b[0m\u001b[0m\n\u001b[1;32m     21\u001b[0m \u001b[0mdata_i\u001b[0m \u001b[0;34m=\u001b[0m \u001b[0mhsc_calibrate\u001b[0m\u001b[0;34m(\u001b[0m\u001b[0;34m'Cutouts/test_i.fits'\u001b[0m\u001b[0;34m)\u001b[0m\u001b[0;34m\u001b[0m\u001b[0;34m\u001b[0m\u001b[0m\n",
      "\u001b[0;32m<ipython-input-1-bc2e6dff8471>\u001b[0m in \u001b[0;36mhsc_calibrate\u001b[0;34m(filename, pixelscale)\u001b[0m\n\u001b[1;32m     10\u001b[0m \u001b[0;34m\u001b[0m\u001b[0m\n\u001b[1;32m     11\u001b[0m \u001b[0;32mdef\u001b[0m \u001b[0mhsc_calibrate\u001b[0m\u001b[0;34m(\u001b[0m\u001b[0mfilename\u001b[0m\u001b[0;34m,\u001b[0m\u001b[0mpixelscale\u001b[0m\u001b[0;34m=\u001b[0m\u001b[0;36m0.168\u001b[0m\u001b[0;34m)\u001b[0m\u001b[0;34m:\u001b[0m\u001b[0;34m\u001b[0m\u001b[0;34m\u001b[0m\u001b[0m\n\u001b[0;32m---> 12\u001b[0;31m     \u001b[0mdata\u001b[0m \u001b[0;34m=\u001b[0m \u001b[0mfits\u001b[0m\u001b[0;34m.\u001b[0m\u001b[0mgetdata\u001b[0m\u001b[0;34m(\u001b[0m\u001b[0mfilename\u001b[0m\u001b[0;34m)\u001b[0m\u001b[0;34m\u001b[0m\u001b[0;34m\u001b[0m\u001b[0m\n\u001b[0m\u001b[1;32m     13\u001b[0m     \u001b[0mhdr\u001b[0m \u001b[0;34m=\u001b[0m \u001b[0mfits\u001b[0m\u001b[0;34m.\u001b[0m\u001b[0mgetheader\u001b[0m\u001b[0;34m(\u001b[0m\u001b[0mfilename\u001b[0m\u001b[0;34m)\u001b[0m\u001b[0;34m\u001b[0m\u001b[0;34m\u001b[0m\u001b[0m\n\u001b[1;32m     14\u001b[0m     \u001b[0mf0\u001b[0m \u001b[0;34m=\u001b[0m \u001b[0mheader\u001b[0m\u001b[0;34m[\u001b[0m\u001b[0;34m'FLUXMAG0'\u001b[0m\u001b[0;34m]\u001b[0m\u001b[0;34m\u001b[0m\u001b[0;34m\u001b[0m\u001b[0m\n",
      "\u001b[0;31mNameError\u001b[0m: name 'fits' is not defined"
     ]
    }
   ],
   "source": [
    "def make_bottrell_rgb(rgb,stretch=99,q=5,scale_r=1.,scale_g=1.,scale_b=1.):\n",
    "    '''Convert images in rgb format (x,y,images).'''\n",
    "    # assume images are in mag/arcsec2\n",
    "    rgb = 10**(0.4*(22.5-rgb))\n",
    "    rgb_scaled = np.tanh(rgb/np.percentile(rgb,stretch)*q)\n",
    "    rgb_scaled[...,0]*=scale_r\n",
    "    rgb_scaled[...,1]*=scale_g\n",
    "    rgb_scaled[...,2]*=scale_b\n",
    "    return rgb_scaled\n",
    "\n",
    "def hsc_calibrate(filename,pixelscale=0.168):\n",
    "    data = fits.getdata(filename)\n",
    "    hdr = fits.getheader(filename)\n",
    "    f0 = header['FLUXMAG0']\n",
    "    data = -2.5*np.log10(data/f0/pixelscale**2) # mag/arscec2\n",
    "    data[np.isnan(data)]=99\n",
    "    return data\n",
    "\n",
    "data_g = hsc_calibrate('Cutouts/test_g.fits')\n",
    "data_r = hsc_calibrate('Cutouts/test_r.fits')\n",
    "data_i = hsc_calibrate('Cutouts/test_i.fits')\n",
    "\n",
    "rgb = np.stack([data_i,data_r,data_g])\n",
    "rgb = rgb.transpose((1,2,0))\n",
    "print(rgb.shape)\n",
    "\n",
    "fig,ax = plt.subplots(figsize=(10,10))\n",
    "rgb_scaled = make_bottrell_rgb(rgb,scale_r=1.,scale_g=1.,scale_b=1.2,q=1.)\n",
    "ax.imshow(rgb_scaled, origin='lower', interpolation='None',aspect='auto')\n",
    "\n",
    "\n",
    "\n"
   ]
  },
  {
   "cell_type": "code",
   "execution_count": 80,
   "id": "cbd0a838-82a9-47a6-97f6-4db433b21023",
   "metadata": {},
   "outputs": [],
   "source": [
    "import pandas as pd\n",
    "import numpy as np\n",
    "import os,sys\n",
    "import astropy.units as u\n",
    "from astropy import wcs\n",
    "from astropy.coordinates import SkyCoord\n",
    "from astropy.io import fits\n",
    "import unagi\n",
    "import tempfile\n",
    "\n",
    "def hsc_coadd_cnds(rerun):\n",
    "    '''Conditions that HSC coadds must be at final data quality.'''\n",
    "    if 'dud' in rerun:\n",
    "        cnds = [\n",
    "            'g_inputcount_value>=28',\n",
    "            'r_inputcount_value>=28',\n",
    "            'i_inputcount_value>=38',\n",
    "            'z_inputcount_value>=63',\n",
    "            'y_inputcount_value>=38',\n",
    "        ]\n",
    "    else:\n",
    "        cnds = [\n",
    "            'g_inputcount_value>=4',\n",
    "            'r_inputcount_value>=4',\n",
    "            'i_inputcount_value>=6',\n",
    "            'z_inputcount_value>=6',\n",
    "            'y_inputcount_value>=6',\n",
    "        ]\n",
    "    return cnds\n",
    "    \n",
    "def load_src_cat(data_release,rerun,clean=True):\n",
    "    '''Generate/load Source catalogue for data release / rerun.'''\n",
    "    csv_file = f'Catalogues/hsc-{data_release}-{rerun}-specz.csv'\n",
    "    if not os.access(csv_file,0):\n",
    "        dr = unagi.hsc.Hsc(dr=data_release, rerun=rerun)\n",
    "        sql_cmd = [\n",
    "            f'SELECT f.object_id, f.ra, f.dec,',\n",
    "            f'z.specz_redshift',\n",
    "            f'FROM {rerun}.forced as f',\n",
    "            f'LEFT JOIN {rerun}.forced2 as f2',\n",
    "            f'ON f.object_id = f2.object_id',\n",
    "            f'LEFT JOIN {rerun}.specz as z',\n",
    "            f'ON f.object_id = z.object_id',\n",
    "            f'WHERE z.specz_redshift>=0.0001'\n",
    "                  ]\n",
    "        sql_cmd = ' '.join(sql_cmd)\n",
    "        if clean:\n",
    "            sql_cmd += ' '+' '.join([f'AND {cnd}' for cnd in hsc_coadd_cnds(rerun)])\n",
    "            sql_cmd += ' ORDER BY f.object_id'\n",
    "        df = dr.sql_query(sql_cmd, from_file=False, verbose=True).to_pandas()\n",
    "        df.to_csv(csv_file,index=False)\n",
    "    else:\n",
    "        df = pd.read_csv(csv_file)\n",
    "    return df  \n",
    "\n",
    "def cutout_radec(data_release,rerun,ra,dec,fov_arcsec=60.,\n",
    "                 bands=['g','r','i','z','y'],out_dir='.',out_prefix='HSC_Cutout'):\n",
    "    '''Extract square HSC cutout centered at (ra,dec) [degrees] with full-width fov_arscec [arcsec] in band(s).'''\n",
    "    dr = unagi.hsc.Hsc(dr=data_release, rerun=rerun)\n",
    "    if type(bands)!=list:\n",
    "        bands = list(bands)\n",
    "    ctr_coord = SkyCoord(ra, dec, frame='icrs', unit='deg')\n",
    "    fov_arcsec *= u.arcsec\n",
    "    cutouts = unagi.task.hsc_cutout(ctr_coord, cutout_size=fov_arcsec, filters=''.join(bands), archive=dr, \n",
    "                             use_saved=False, output_dir=out_dir, verbose=False, prefix=out_prefix,img_type='coadd',\n",
    "                             save_output=True, variance=True, mask=True)\n",
    "    if type(cutouts)!=list:\n",
    "        cutouts.close()\n",
    "    else:\n",
    "        for cutout in cutouts:\n",
    "            cutout.close()\n",
    "    return\n",
    "    \n",
    "def make_bottrell_rgb(rgb,stretch=99,q=5,scale_r=1.,scale_g=1.,scale_b=1.):\n",
    "    '''Convert images in rgb format (x,y,images).'''\n",
    "    # assume images are in mag/arcsec2\n",
    "    rgb = 10**(0.4*(22.5-rgb))\n",
    "    rgb_scaled = np.tanh(rgb/np.percentile(rgb,stretch)*q)\n",
    "    rgb_scaled[...,0]*=scale_r\n",
    "    rgb_scaled[...,1]*=scale_g\n",
    "    rgb_scaled[...,2]*=scale_b\n",
    "    return rgb_scaled\n",
    "\n",
    "def hsc_calibrate_msb(filename,pixelscale=0.168):\n",
    "    '''Calibrate HSC image to magnitude surface brightness [AB mag/arcsec2].'''\n",
    "    data = fits.getdata(filename)\n",
    "    hdr = fits.getheader(filename)\n",
    "    f0 = hdr['FLUXMAG0']\n",
    "    data = -2.5*np.log10(data/f0/pixelscale**2) # mag/arscec2\n",
    "    data[np.isnan(data)]=99\n",
    "    return data   \n",
    "\n",
    "def hsc_calibrate_nanomaggies(filename,pixelscale=0.168):\n",
    "    '''Calibrate HSC image to linear AB nanomaggies.'''\n",
    "    data = fits.getdata(filename)\n",
    "    hdr = fits.getheader(filename)\n",
    "    f0 = hdr['FLUXMAG0']\n",
    "    data = data/f0*1e9 # nanomaggies\n",
    "    return data   \n",
    "\n",
    "def cb_plot(nrows=1,ncols=1,sharex=False,sharey=False,panelsize_x=5,panelsize_y=5):\n",
    "    '''My plotting style.'''\n",
    "    import matplotlib.pyplot as plt\n",
    "    from matplotlib import rc\n",
    "    rc('font',**{'family':'serif'})\n",
    "    rc('text', usetex=True)\n",
    "    fig,axarr = plt.subplots(nrows,ncols,figsize=(ncols*panelsize_x,nrows*panelsize_y),sharey=sharey,sharex=sharex)\n",
    "    for ax in np.asarray([axarr]).flat:\n",
    "        ax.get_xaxis().set_visible(False)\n",
    "        ax.get_yaxis().set_visible(False)\n",
    "        for spine in ['top','bottom','left','right']:\n",
    "            ax.spines[spine].set_linewidth(0.5)\n",
    "            ax.spines[spine].set_color('black')\n",
    "        fig.subplots_adjust(wspace=0,hspace=0)\n",
    "    return fig,axarr\n",
    "\n",
    "def rgb_plot(ax,out_dir,out_prefix,bands=['g','r','i'],scale_r=1.,scale_g=1.,scale_b=1.2,q=1.):\n",
    "    '''Plot rgb colour image on ax from 3 bands ordered blue/green/red.'''\n",
    "    data_b = hsc_calibrate_msb(f'{out_dir}/{out_prefix}_{bands[0]}.fits')\n",
    "    data_g = hsc_calibrate_msb(f'{out_dir}/{out_prefix}_{bands[1]}.fits')\n",
    "    data_r = hsc_calibrate_msb(f'{out_dir}/{out_prefix}_{bands[2]}.fits')\n",
    "    rgb = np.stack([data_r,data_g,data_b])\n",
    "    rgb = rgb.transpose((1,2,0))\n",
    "    rgb_scaled = make_bottrell_rgb(rgb,scale_r=scale_r,scale_g=scale_g,scale_b=scale_b,q=q)\n",
    "    ax.imshow(rgb_scaled, origin='lower', interpolation='None',aspect='auto')\n",
    "    return\n",
    "\n",
    "\n",
    "def main():\n",
    "    \n",
    "    data_release = 'dr3'\n",
    "    rerun = 's20a_wide'\n",
    "    df = load_src_cat(data_release,rerun)\n",
    "    fig_dir = '/lustre/work/connor.bottrell/RealSim_HSC/Figures'\n",
    "    bands = 'grizy'\n",
    "    fov_arcsec = 40.\n",
    "    \n",
    "    # low-z sample\n",
    "    lowz_df = df.loc[(df.specz_redshift<0.02) & (df.specz_redshift>0.01)]\n",
    "    idxs = lowz_df.index\n",
    "    for idx in idxs:\n",
    "        galaxy = lowz_df.loc[idx]\n",
    "        out_prefix = f'HSC_Cutout_{int(galaxy.object_id)}'\n",
    "        fig_name = f'{fig_dir}/{out_prefix}.pdf'\n",
    "        if os.access(fig_name,0): continue\n",
    "        with tempfile.TemporaryDirectory() as out_dir:\n",
    "            cutout_radec(data_release,rerun,galaxy.ra,galaxy.dec,\n",
    "                         fov_arcsec=fov_arcsec,bands=bands,out_dir=out_dir,out_prefix=out_prefix)\n",
    "            fig,axarr = cb_plot(2,3,sharey=True,panelsize_x=5,panelsize_y=5)\n",
    "            axarr = axarr.flatten()\n",
    "            for i,band in enumerate(['g','r','i','z','y']):\n",
    "                filename = f'{out_dir}/{out_prefix}_{band}.fits'\n",
    "                data = hsc_calibrate_msb(filename)\n",
    "                ax = axarr[i]\n",
    "                ax.imshow(data,vmin=16,vmax=26,cmap='bone',origin='lower',aspect='auto',interpolation='None')\n",
    "            ax = axarr[5]\n",
    "            rgb_plot(ax,out_dir,out_prefix,q=1)\n",
    "            fig.savefig(fig_name,bbox_inches='tight')\n",
    "        \n",
    "if __name__=='__main__':\n",
    "    main()"
   ]
  },
  {
   "cell_type": "code",
   "execution_count": 36,
   "id": "01ac14e1-573e-499d-9f26-b67020c56320",
   "metadata": {},
   "outputs": [
    {
     "data": {
      "text/plain": [
       "3.472222222222222"
      ]
     },
     "execution_count": 36,
     "metadata": {},
     "output_type": "execute_result"
    }
   ],
   "source": [
    "40000*0.5/60/24/4"
   ]
  },
  {
   "cell_type": "code",
   "execution_count": 59,
   "id": "9701919f-939e-4782-b9da-7e0f03275697",
   "metadata": {},
   "outputs": [
    {
     "data": {
      "text/plain": [
       "757"
      ]
     },
     "execution_count": 59,
     "metadata": {},
     "output_type": "execute_result"
    }
   ],
   "source": [
    "190+189*3"
   ]
  },
  {
   "cell_type": "code",
   "execution_count": null,
   "id": "a4ca5c12-ff21-4643-8f55-09ef93201e44",
   "metadata": {},
   "outputs": [],
   "source": []
  }
 ],
 "metadata": {
  "kernelspec": {
   "display_name": "Python 3",
   "language": "python",
   "name": "python3"
  },
  "language_info": {
   "codemirror_mode": {
    "name": "ipython",
    "version": 3
   },
   "file_extension": ".py",
   "mimetype": "text/x-python",
   "name": "python",
   "nbconvert_exporter": "python",
   "pygments_lexer": "ipython3",
   "version": "3.9.5"
  }
 },
 "nbformat": 4,
 "nbformat_minor": 5
}
